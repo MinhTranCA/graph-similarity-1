{
 "cells": [
  {
   "cell_type": "code",
   "execution_count": 1,
   "metadata": {},
   "outputs": [],
   "source": [
    "import sys\n",
    "sys.path.append('../data/')\n",
    "sys.path.append('../src/')\n",
    "sys.path.append('../libs/')\n",
    "\n",
    "import numpy as np\n",
    "import tensorflow as tf\n",
    "import scipy.linalg as la\n",
    "import matplotlib.pyplot as plt"
   ]
  },
  {
   "cell_type": "markdown",
   "metadata": {},
   "source": [
    "<center>\n",
    "<h1>Graph Embedding by Convolution with Kernels that are Optimized (GECKO)</h1>\n",
    "<img width=400px, src=\"https://4.bp.blogspot.com/-_4YSL3AIp0o/Ue5zT_jUweI/AAAAAAAAoms/NQTKfJHMbSg/s640/tokay+gecko+2.jpg\"/>\n",
    "</center>"
   ]
  },
  {
   "cell_type": "markdown",
   "metadata": {},
   "source": [
    "<h2>Motivation</h2>\n",
    "\n",
    "One of the "
   ]
  },
  {
   "cell_type": "markdown",
   "metadata": {},
   "source": [
    "<h2>Architecture</h2>"
   ]
  },
  {
   "cell_type": "code",
   "execution_count": 2,
   "metadata": {
    "collapsed": true
   },
   "outputs": [],
   "source": [
    "def poly2ChebMatrix(n):\n",
    "    \n",
    "    # Initialize T0 and T1 base cases\n",
    "    P = np.zeros((n, n))\n",
    "    P[0,0] = 1\n",
    "    P[1,1] = 1\n",
    "    \n",
    "    # Recursively fill in the rest of the matrix\n",
    "    for i in range(2, n):        \n",
    "        P[i,:] = 2 * np.pad(P[i-1,:], (1, 0), 'constant')[:-1] - P[i-2,:]\n",
    "        \n",
    "    return P"
   ]
  },
  {
   "cell_type": "code",
   "execution_count": 73,
   "metadata": {},
   "outputs": [],
   "source": [
    "def new_model(nFilters1, nFilters2, nDims, nCoefs, L, L1, part1):\n",
    "    '''\n",
    "    nFilters1: Number of filters / kernels in convolutional layer 1\n",
    "    nFilters2: Number of filters / kernels in convolutional layer 2\n",
    "    nDims:     Dimension of embeddings\n",
    "    nCoefs:    Order of filter polynomials (recommended < 10 for numerical stability)\n",
    "    L:         (n1 x n1) Laplacian matrix for full graph\n",
    "    L1:        (n2 x n2) Laplacian matrix for pooled graph 1\n",
    "    part1:     (n1 x n2) Membership matrix for full graph -> pooled graph 1\n",
    "    '''\n",
    "    \n",
    "    # Get dimensions\n",
    "    nVertices, nVertices1 = L.shape[0], L1.shape[0]\n",
    "    \n",
    "    # Compute Graph Fourier Transform matrices\n",
    "    [lamb, U] = np.linalg.eig(L)\n",
    "    [lamb1, U1] = np.linalg.eig(L1)\n",
    "\n",
    "    # Calculate Chebyshev change-of-basis matrix\n",
    "    powers = np.transpose(np.expand_dims(np.arange(nCoefs), 1))\n",
    "    freqs, freqs1 = np.expand_dims(lamb, 1), np.expand_dims(lamb1, 1)\n",
    "    Y, Y1 = np.power(freqs, powers), np.power(freqs1, powers)\n",
    "    P = poly2ChebMatrix(nCoefs)\n",
    "    T, T1 = np.dot(Y, P), np.dot(Y1, P)\n",
    "    \n",
    "    # Define model function\n",
    "    def model_fn(features, labels, mode, params):\n",
    "\n",
    "        # 1. Configure model via TensorFlow operations (support auto differentiation)\n",
    "\n",
    "        # Define / randomly initialize parameters to train\n",
    "        # theta1: Chebyshev polynomial weights for convolutional layer 1\n",
    "        # theta2: Chebyshev polynomial weights for convolutional layer 2\n",
    "        # weights: Coefficients for final dense layer\n",
    "        theta1 = tf.Variable(np.random.normal(0, 1e-2, size = (nCoefs, nFilters1)))\n",
    "        theta2 = tf.Variable(np.random.normal(0, 1e-2, size = (nCoefs, nFilters1, nFilters2)))\n",
    "        weights = tf.Variable(np.random.normal(0, 1e-2, size = (nVertices1 * nFilters1 * nFilters2, nDims)))\n",
    "\n",
    "        # INPUT LAYER\n",
    "        # x: (nVertices x N) Input data (N is batch size, determined by Tensorflow)\n",
    "        # x_hat: (1 x nVertices x N) Input data in frequency domain\n",
    "        x = tf.transpose(tf.reshape(features['x'], (-1, nVertices)))\n",
    "        x_hat = tf.expand_dims(tf.matmul(np.transpose(U), x), axis = 0)\n",
    "        \n",
    "        # CONVOLUTIONAL LAYER 1\n",
    "        # filter1_hat: (nFilters1 x nVertices x 1) Filters in frequency domain\n",
    "        # conv1_hat: (nFilters1 x nVertices x N) Convolution in frequency domain\n",
    "        # conv1: (nFilters1 x nVertices x N) Convolution in vertex domain\n",
    "        filter1_hat = tf.expand_dims(tf.tensordot(T, theta1, [[1], [0]]), axis = 2)\n",
    "        filter1_hat = tf.transpose(filter1_hat, [1, 0, 2]) \n",
    "        conv1_hat = x_hat * filter1_hat \n",
    "        conv1 = tf.tensordot(conv1_hat, U, axes = [[1], [1]])\n",
    "        conv1 = tf.transpose(conv1, [0, 2, 1])\n",
    "                \n",
    "        # POOLING LAYER 1\n",
    "        # coarse1: (nFilters1 x nVertices1 x N) Average of conv1 signal in each graph partition\n",
    "        # coarse1_hat: (1 x nFilters1 x nVertices1 x N) coarse1 in frequency         \n",
    "        coarse1 = tf.tensordot(conv1, part1, [[1], [0]]) / np.sum(part1, axis = 0)     \n",
    "        coarse1 = tf.transpose(coarse1, [0, 2, 1])\n",
    "        coarse1_hat = tf.tensordot(coarse1, np.transpose(U1), [[1], [1]])\n",
    "        coarse1_hat = tf.expand_dims(tf.transpose(coarse1_hat, [0, 2, 1]), axis = 0)\n",
    "                \n",
    "        # CONVOLUTIONAL LAYER 2\n",
    "        # filter2_hat: (nFilters2 x nFilters1 x nVertices1 x 1) Filters in frequency domain\n",
    "        # conv2_hat: (nFilters2 x nFilters1 x nVertices1 x N) Convolutions in freq. domain\n",
    "        # conv2: (nFilters2 x nFilters1 x nVertices1 x N) Convolution in vertex domain        \n",
    "        filter2_hat = tf.expand_dims(tf.tensordot(T1, theta2, [[1], [0]]), axis = 3)\n",
    "        filter2_hat = tf.transpose(filter2_hat, [2, 1, 0, 3])\n",
    "        conv2_hat = coarse1_hat * filter2_hat\n",
    "        conv2 = tf.tensordot(U1, conv2_hat, axes = [[1], [2]])\n",
    "        conv2 = tf.transpose(conv2, [0, 1, 3, 2])\n",
    "        \n",
    "        # DENSE (OUTPUT) LAYER\n",
    "        # conv_out: (nFilters2 * nFilters1 * nVertices1 x N) Flattened convolution outputs\n",
    "        # embed: (N x n_dims) Embedding of each graph in the nDims-dimensional plane\n",
    "        conv_out = tf.reshape(conv2, (nFilters1 * nFilters2 * nVertices1, -1))\n",
    "        embed = tf.sigmoid(tf.matmul(tf.transpose(conv_out), weights))\n",
    "\n",
    "        # If we are predicting, and not calculating loss, stop now.\n",
    "        if mode == tf.estimator.ModeKeys.PREDICT:\n",
    "            return tf.estimator.EstimatorSpec(mode, {'embed': embed})\n",
    "\n",
    "        # 2. Define loss function\n",
    "        \n",
    "        loss = tf.losses.mean_squared_error(labels, embed)\n",
    "\n",
    "        # 3. Define training operation / optimizer\n",
    "\n",
    "        optimizer = tf.train.GradientDescentOptimizer(learning_rate = params['learning_rate'])\n",
    "        train_op = optimizer.minimize(loss = loss, global_step = tf.train.get_global_step())\n",
    "\n",
    "        return tf.estimator.EstimatorSpec(mode, embed, loss, train_op, {})\n",
    "    \n",
    "    return model_fn"
   ]
  },
  {
   "cell_type": "markdown",
   "metadata": {},
   "source": [
    "<h2>Network Test Cases</h2>"
   ]
  },
  {
   "cell_type": "code",
   "execution_count": 55,
   "metadata": {
    "collapsed": true
   },
   "outputs": [],
   "source": [
    "# Load Data\n",
    "laplacian_path = \"../data/cases/fullLaplacian.csv\"\n",
    "laplacian1_path = \"../data/cases/coarseLaplacian.csv\"\n",
    "part1_path = \"../data/cases/partition.csv\"\n",
    "processA_data_path = \"../data/cases/procASignals.csv\"\n",
    "processB_data_path = \"../data/cases/procBSignals.csv\"\n",
    "\n",
    "L = np.loadtxt(laplacian_path, delimiter = ',')\n",
    "L1 = np.loadtxt(laplacian1_path, delimiter = ',')\n",
    "part1 = np.loadtxt(part1_path, delimiter = ',')\n",
    "A = np.loadtxt(processA_data_path, delimiter = ',')\n",
    "B = np.loadtxt(processB_data_path, delimiter = ',')"
   ]
  },
  {
   "cell_type": "code",
   "execution_count": 56,
   "metadata": {
    "collapsed": true
   },
   "outputs": [],
   "source": [
    "# Combine Data\n",
    "allData = np.vstack((A, B))\n",
    "\n",
    "labels = np.vstack((np.hstack((np.ones(A.shape[0]), np.zeros(B.shape[0]))),\n",
    "    np.hstack((np.zeros(B.shape[0]), np.ones(B.shape[0])))))\n",
    "labels = np.transpose(labels)\n",
    "\n",
    "# Shuffle data\n",
    "idx = np.random.permutation(labels.shape[0])\n",
    "allData, labels = allData[idx,:], labels[idx]\n",
    "allData = allData / np.expand_dims(np.max(allData, axis = 1), axis = 1)"
   ]
  },
  {
   "cell_type": "code",
   "execution_count": 61,
   "metadata": {
    "collapsed": true
   },
   "outputs": [],
   "source": [
    "# Create input function\n",
    "training_input_fn = tf.estimator.inputs.numpy_input_fn(\n",
    "    x = {'x': allData},\n",
    "    y = labels,\n",
    "    shuffle = True,\n",
    "    num_epochs = 4\n",
    ")"
   ]
  },
  {
   "cell_type": "code",
   "execution_count": 79,
   "metadata": {},
   "outputs": [
    {
     "name": "stdout",
     "output_type": "stream",
     "text": [
      "INFO:tensorflow:Using default config.\n",
      "WARNING:tensorflow:Using temporary folder as model directory: C:\\Users\\KEVINS~1\\AppData\\Local\\Temp\\tmp0n7hozad\n",
      "INFO:tensorflow:Using config: {'_model_dir': 'C:\\\\Users\\\\KEVINS~1\\\\AppData\\\\Local\\\\Temp\\\\tmp0n7hozad', '_tf_random_seed': None, '_save_summary_steps': 100, '_save_checkpoints_steps': None, '_save_checkpoints_secs': 600, '_session_config': None, '_keep_checkpoint_max': 5, '_keep_checkpoint_every_n_hours': 10000, '_log_step_count_steps': 100, '_service': None, '_cluster_spec': <tensorflow.python.training.server_lib.ClusterSpec object at 0x000000001D2E2F98>, '_task_type': 'worker', '_task_id': 0, '_master': '', '_is_chief': True, '_num_ps_replicas': 0, '_num_worker_replicas': 1}\n",
      "INFO:tensorflow:Create CheckpointSaverHook.\n",
      "INFO:tensorflow:Saving checkpoints for 1 into C:\\Users\\KEVINS~1\\AppData\\Local\\Temp\\tmp0n7hozad\\model.ckpt.\n",
      "INFO:tensorflow:loss = 0.251851, step = 1\n",
      "INFO:tensorflow:global_step/sec: 24.2058\n",
      "INFO:tensorflow:loss = 0.251196, step = 101 (4.132 sec)\n",
      "INFO:tensorflow:global_step/sec: 24.6231\n",
      "INFO:tensorflow:loss = 0.250477, step = 201 (4.061 sec)\n",
      "INFO:tensorflow:global_step/sec: 24.5204\n",
      "INFO:tensorflow:loss = 0.249725, step = 301 (4.078 sec)\n",
      "INFO:tensorflow:global_step/sec: 24.7021\n",
      "INFO:tensorflow:loss = 0.249924, step = 401 (4.048 sec)\n",
      "INFO:tensorflow:global_step/sec: 24.7205\n",
      "INFO:tensorflow:loss = 0.250203, step = 501 (4.045 sec)\n",
      "INFO:tensorflow:global_step/sec: 24.2352\n",
      "INFO:tensorflow:loss = 0.249274, step = 601 (4.125 sec)\n",
      "INFO:tensorflow:Saving checkpoints for 625 into C:\\Users\\KEVINS~1\\AppData\\Local\\Temp\\tmp0n7hozad\\model.ckpt.\n",
      "INFO:tensorflow:Loss for final step: 0.249801.\n"
     ]
    }
   ],
   "source": [
    "nCoefs = 6\n",
    "nFilters1 = 10\n",
    "nFilters2 = 10\n",
    "nDims = 2\n",
    "\n",
    "model_params = {'learning_rate': 0.005}\n",
    "\n",
    "model_fn = new_model(nFilters1, nFilters2, nDims, nCoefs, L, L1, part1)\n",
    "nn = tf.estimator.Estimator(model_fn = model_fn, params = model_params)\n",
    "est = nn.train(input_fn = training_input_fn, steps = None)"
   ]
  },
  {
   "cell_type": "code",
   "execution_count": 80,
   "metadata": {},
   "outputs": [
    {
     "name": "stdout",
     "output_type": "stream",
     "text": [
      "INFO:tensorflow:Restoring parameters from C:\\Users\\KEVINS~1\\AppData\\Local\\Temp\\tmp0n7hozad\\model.ckpt-625\n"
     ]
    }
   ],
   "source": [
    "predict_input_fn = tf.estimator.inputs.numpy_input_fn(\n",
    "    x = {'x': allData},\n",
    "    num_epochs = 1,\n",
    "    shuffle=False)\n",
    "\n",
    "predictions = nn.predict(input_fn = predict_input_fn)\n",
    "embeddings = np.vstack([pred['embed'] for pred in predictions])"
   ]
  },
  {
   "cell_type": "code",
   "execution_count": 81,
   "metadata": {},
   "outputs": [
    {
     "data": {
      "image/png": "[encoded data removed]",
      "text/plain": [
       "<matplotlib.figure.Figure at 0x1be92908>"
      ]
     },
     "metadata": {},
     "output_type": "display_data"
    }
   ],
   "source": [
    "plt.scatter(embeddings[:, 0], embeddings[:, 1], marker = '.', alpha = 0.01)\n",
    "plt.show()"
   ]
  }
 ],
 "metadata": {
  "kernelspec": {
   "display_name": "Python 3",
   "language": "python",
   "name": "python3"
  },
  "language_info": {
   "codemirror_mode": {
    "name": "ipython",
    "version": 3
   },
   "file_extension": ".py",
   "mimetype": "text/x-python",
   "name": "python",
   "nbconvert_exporter": "python",
   "pygments_lexer": "ipython3",
   "version": "3.6.1"
  }
 },
 "nbformat": 4,
 "nbformat_minor": 2
}
