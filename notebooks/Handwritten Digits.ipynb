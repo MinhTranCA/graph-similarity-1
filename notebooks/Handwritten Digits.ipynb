{
 "cells": [
  {
   "cell_type": "code",
   "execution_count": 1,
   "metadata": {
    "collapsed": true
   },
   "outputs": [],
   "source": [
    "import sys\n",
    "sys.path.append('../data/')\n",
    "sys.path.append('../src/')\n",
    "sys.path.append('../libs/')\n",
    "\n",
    "import numpy as np\n",
    "import tensorflow as tf\n",
    "import scipy.linalg as la\n",
    "import matplotlib.pyplot as plt\n",
    "\n",
    "import MNIST_DATA"
   ]
  },
  {
   "cell_type": "markdown",
   "metadata": {},
   "source": [
    "<h1>Handwritten Digits</h1>"
   ]
  },
  {
   "cell_type": "code",
   "execution_count": 2,
   "metadata": {
    "collapsed": true
   },
   "outputs": [],
   "source": [
    "mnist = MNIST_DATA.MNIST_DATA()"
   ]
  },
  {
   "cell_type": "markdown",
   "metadata": {},
   "source": [
    "<h2>Graph Convolutional Network</h2>"
   ]
  },
  {
   "cell_type": "markdown",
   "metadata": {},
   "source": [
    "It doesn't make sense to slide a filter over a graph, so graph convolutional networks use a definition of convolution by analogy. In a Euclidean space, the convolution of two signals in the frequency domain is the product of the signals in the frequency domain. Similarly, for two signals $f$ and $g$ defined in vertex space, the convolution is\n",
    "\\begin{equation}\n",
    "    f \\star g = \\sum^n_{k = 1} \\left( \\hat f_k \\hat g_k \\right) u_k\n",
    "\\end{equation}\n",
    "where $\\hat f_k, \\hat g_k$ are coefficients of the $k$th frequency component, and $u_k$ is the basis vector corresponding to the $k$th frequency component.\n",
    "\n",
    "Frequency components are obtained by the Graph Fourier Transform (GFT). If $G$ is a graph with Laplacian $L$, then the Fourier basis for a signal $x$ defined over the vertices of $G$ are the columns of the orthonormal matrix $U$, defined by the spectral decomposition $L = U^T \\Lambda U$. Hence, if $x$ is a signal in the vertex domain, the corresponding frequency domain signal is $\\hat x = U^T x$."
   ]
  },
  {
   "cell_type": "markdown",
   "metadata": {},
   "source": [
    "<h3>Lattice Frequency Domain</h3>\n",
    "\n",
    "All of the handwritten digits are defined over the same graph, a 28 $\\times$ 28 lattice. We can obtain the normalized Laplacian as follows:"
   ]
  },
  {
   "cell_type": "code",
   "execution_count": 3,
   "metadata": {
    "collapsed": true
   },
   "outputs": [],
   "source": [
    "def get_lattice_laplacian(n):\n",
    "    d, I = la.toeplitz(np.eye(1, n, 1)), np.eye(n)\n",
    "    A = np.kron(d, I) + np.kron(I, d)\n",
    "    degrees = np.sum(A, axis = 0)\n",
    "    N = np.diag(np.power(degrees, -0.5))\n",
    "    L = np.identity(n ** 2) - np.linalg.multi_dot([N, A, N])\n",
    "    return L"
   ]
  },
  {
   "cell_type": "markdown",
   "metadata": {},
   "source": [
    "Let's see what some of the frequency components look like for the lattice graph."
   ]
  },
  {
   "cell_type": "code",
   "execution_count": 51,
   "metadata": {
    "collapsed": true
   },
   "outputs": [],
   "source": [
    "L = get_lattice_laplacian(28)\n",
    "lamb, U = np.linalg.eig(L)"
   ]
  },
  {
   "cell_type": "code",
   "execution_count": 52,
   "metadata": {
    "scrolled": false
   },
   "outputs": [
    {
     "data": {
      "image/png": "[encoded data removed]",
      "text/plain": [
       "<matplotlib.figure.Figure at 0x25172860>"
      ]
     },
     "metadata": {},
     "output_type": "display_data"
    }
   ],
   "source": [
    "plt.figure(figsize = (10, 5))\n",
    "plt.subplot(1, 3, 1)\n",
    "plt.imshow(np.abs(np.reshape(U[:, 0], (28, 28))))\n",
    "plt.title('Frequency Component 1')\n",
    "plt.subplot(1, 3, 2)\n",
    "plt.imshow(np.abs(np.reshape(U[:, 9], (28, 28))))\n",
    "plt.title('Frequency Component 10')\n",
    "plt.subplot(1, 3, 3)\n",
    "plt.imshow(np.abs(np.reshape(U[:, 99], (28, 28))))\n",
    "plt.title('Frequency Component 100')\n",
    "plt.show()"
   ]
  },
  {
   "cell_type": "markdown",
   "metadata": {},
   "source": [
    "We get some cool and weird patterns, whose complexity increases with frequency. By taking a linear combination of these frequency component images, we can reconstruct any image defined over the lattice. Here, we'll keep only the first 200 components, to demonstrate a partial reconstruction of the image:"
   ]
  },
  {
   "cell_type": "code",
   "execution_count": 56,
   "metadata": {},
   "outputs": [
    {
     "data": {
      "image/png": "[encoded data removed]",
      "text/plain": [
       "<matplotlib.figure.Figure at 0x256783c8>"
      ]
     },
     "metadata": {},
     "output_type": "display_data"
    },
    {
     "data": {
      "image/png": "[encoded data removed]",
      "text/plain": [
       "<matplotlib.figure.Figure at 0x25726f60>"
      ]
     },
     "metadata": {},
     "output_type": "display_data"
    }
   ],
   "source": [
    "# Load image and normalize pixels to 0-1 range\n",
    "img = np.array(mnist.train_data[0], dtype = 'float64')\n",
    "img = img / 255\n",
    "\n",
    "# Get image in the frequency domain\n",
    "# Remove all but first 200 frequency components\n",
    "img_hat = np.dot(np.transpose(U), img)\n",
    "img_hat[200:] = 0\n",
    "img_mod = np.dot(U, img_hat)\n",
    "\n",
    "# Plot original and reconstructed images\n",
    "plt.imshow(np.reshape(img, (28, 28)))\n",
    "plt.title('Original Image')\n",
    "plt.show()\n",
    "\n",
    "plt.imshow(np.reshape(img_mod, (28, 28)))\n",
    "plt.title('200 Frequency Components')\n",
    "plt.show()"
   ]
  },
  {
   "cell_type": "markdown",
   "metadata": {},
   "source": [
    "Any of the handwritten digits can be written as a linear combination of the 784 frequency components.\n",
    "\n",
    "<h3>Spectral Filters</h3>\n",
    "\n",
    "The point of a convolutional neural network is to learn an optimal filter with which the signal is convolved. For graph convolutional networks, it is common to use a filter which is polynomial in the frequency domain. In other words, when the filter signal $g$ is written in the frequency domain (rather than the vertex domain), we have\n",
    "\\begin{equation}\n",
    "    \\hat g_k = \\sum_{i = 0}^n \\alpha_{k,i} \\lambda_k^i\n",
    "\\end{equation}\n",
    "where $\\alpha_{k,i}$ is the coefficient we are trying to learn, and $\\lambda_k$ is the $k$th frequency of the graph.\n",
    "\n",
    "<h4>Chebyshev Polynomials</h4>\n",
    "\n",
    "Rather than learning $\\alpha_{k,i}$ directly, it is common to work with Chebyshev polynomials, writing\n",
    "\\begin{equation}\n",
    "    \\hat g_k = \\sum_{i = 0}^n \\alpha_{k,i} \\lambda_k^i = \\sum_{i = 0}^n \\theta_{k,i} T_i(\\lambda_k - 1)\n",
    "\\end{equation}\n",
    "Here $T_i(x)$ is the $i$th Chebyshev polynomial (of the first kind). Chebyshev polynomials are defined recursively, such that $T_0(x) = 1$, $T_1(x) = x$, and $T_{i + 1}(x) = 2 x T_i(x) - T_{i - 1}(x)$. They are defined over a domain $x \\in [-1, 1]$ and have a range $T_i(x) \\in [-1, 1]$. Note that eigenvalues of a normalized Laplacian lie between 0 and 2, so $\\lambda_k - 1$ fits perfectly in the domain of a Chebyshev polynomial.\n",
    "\n",
    "Chebyshev polynomials form an orthogonal basis for $n$th-degree polynomials over $x \\in [-1, 1]$. Therefore, we are guaranteed that for every polynomial\n",
    "\\begin{equation}\n",
    "    \\hat g_k = \\sum_{i = 0}^n \\alpha_{k,i} \\lambda_k^i\n",
    "\\end{equation}\n",
    "we will be able to find coefficients $\\theta_{k,i}$ to re-write the polynomial as a linear combination of Chebyshev polynomials:\n",
    "\\begin{equation}\n",
    "    \\hat g_k = \\sum_{i = 0}^n \\theta_{k,i} T_i(\\lambda_k - 1)\n",
    "\\end{equation}\n",
    "To find these coefficients, write out $T_i(x)$ as an explicit polynomial:\n",
    "\\begin{equation}\n",
    "    T_i(x) = \\sum_{j = 0}^n P_{i,j} x^j\n",
    "\\end{equation}\n",
    "Here $P_{i,j}$ is the coefficient of $x^j$ in the $i$th Chebyshev polynomial. These coefficients can be found using the recursive definition:"
   ]
  },
  {
   "cell_type": "code",
   "execution_count": 49,
   "metadata": {
    "collapsed": true
   },
   "outputs": [],
   "source": [
    "def poly2ChebMatrix(n):\n",
    "    \n",
    "    # Initialize T0 and T1 base cases\n",
    "    P = np.zeros((n, n))\n",
    "    P[0,0] = 1\n",
    "    P[1,1] = 1\n",
    "    \n",
    "    # Recursively fill in the rest of the matrix\n",
    "    for i in range(2, n):        \n",
    "        P[i,:] = 2 * np.pad(P[i-1,:], (1, 0), 'constant')[:-1] - P[i-2,:]\n",
    "        \n",
    "    return P"
   ]
  },
  {
   "cell_type": "markdown",
   "metadata": {},
   "source": [
    "For example, we'll examine the Chebyshev polynomials $T_0, T_1, T_2, T_3$:"
   ]
  },
  {
   "cell_type": "code",
   "execution_count": 50,
   "metadata": {},
   "outputs": [
    {
     "name": "stdout",
     "output_type": "stream",
     "text": [
      "[[ 1.  0.  0.  0.]\n",
      " [ 0.  1.  0.  0.]\n",
      " [-1.  0.  2.  0.]\n",
      " [ 0. -3.  0.  4.]]\n"
     ]
    }
   ],
   "source": [
    "P = poly2ChebMatrix(4)\n",
    "print(P)"
   ]
  },
  {
   "cell_type": "markdown",
   "metadata": {},
   "source": [
    "Reading this matrix, we find $T_0(x) = 1$ and $T_1(x) = x$, the desired base cases. Then $T_2(x) = -1 + 2x^2$, and $T_3(x) = -3x + 4x^3$. This can be verified from the Wikipedia list <a href=\"https://en.wikipedia.org/wiki/Chebyshev_polynomials#First_kind\">here</a>.\n",
    "\n",
    "Now, the goal of training the CNN is to identify the best coefficients $\\theta_{k,i}$, yielding the optimal filter\n",
    "\\begin{equation}\n",
    "    \\hat g_k = \\sum^n_{i = 0} \\theta_{k,i} T_i(\\lambda_k - 1)\n",
    "\\end{equation}\n",
    "At some point, we will need to actually evaluate this sum. We can evaluate a vector of Chebyshev polynomials $T(x)$ using simple matrix multiplication. If we define a vector $y(x)$ of exponents, such that $y_i(x) = x^i$, then the vector of Chebyshev polynomials evaluated at $x$ is $T(x) = P y(x)$. \n",
    "\n",
    "To evaluate a weighted sum of Chebyshev polynomials at $x$, simply multiply by a weight vector $\\theta$, where $\\theta_i$ is the coefficient for the $i$th Chebyshev polynomial:\n",
    "\\begin{equation}\n",
    "    t(x) = \\sum_{i = 0}^n \\theta_i T_i(x) = \\theta^T P y(x)\n",
    "\\end{equation}\n",
    "\n",
    "<h4>Chebyshev Filter</h4>\n",
    "\n",
    "We will now carry out a convolution of a sample filter with the image. First, get the frequency components on the lattice graph and find the Fourier transform of the image:"
   ]
  },
  {
   "cell_type": "code",
   "execution_count": 57,
   "metadata": {
    "collapsed": true
   },
   "outputs": [],
   "source": [
    "L = get_lattice_laplacian(28)\n",
    "[lamb, U] = np.linalg.eig(L)\n",
    "img_hat = np.dot(np.transpose(U), img)"
   ]
  },
  {
   "cell_type": "markdown",
   "metadata": {},
   "source": [
    "The filter is defined by the Chebyshev coefficients $\\theta_{k, i}$ for each frequency component $k$. There are $28^2$ frequency components, and to start, we will use only the first 20 Chebyshev polynomials."
   ]
  },
  {
   "cell_type": "code",
   "execution_count": 63,
   "metadata": {},
   "outputs": [
    {
     "data": {
      "image/png": "[encoded data removed]",
      "text/plain": [
       "<matplotlib.figure.Figure at 0x246679e8>"
      ]
     },
     "metadata": {},
     "output_type": "display_data"
    },
    {
     "data": {
      "image/png": "[encoded data removed]",
      "text/plain": [
       "<matplotlib.figure.Figure at 0x2579d0b8>"
      ]
     },
     "metadata": {},
     "output_type": "display_data"
    }
   ],
   "source": [
    "nComps = 28 ** 2  # Number of frequency components\n",
    "nCoefs = 20       # Number of Chebyshev polynomials summed for each component\n",
    "\n",
    "# Randomly initialize filter coefficients\n",
    "theta = np.random.normal(0, 1e-2, (nComps, nCoefs)) \n",
    "\n",
    "# Prepare to store convolution in frequency domain\n",
    "h_hat = np.empty(nComps)  \n",
    "\n",
    "# Calculate polynomial-chebyshev change of basis matrix\n",
    "P = poly2ChebMatrix(nCoefs)\n",
    "\n",
    "for k in range(nComps):\n",
    "    \n",
    "    # Calculate filter polynomial for component k\n",
    "    y = np.power(lamb[k] - 1, np.arange(nCoefs))\n",
    "    g_hat = np.linalg.multi_dot([theta[k,:], P, y])\n",
    "    h_hat[k] = img_hat[k] * g_hat\n",
    "    \n",
    "# Get convolution in vertex domain and plot\n",
    "H = np.dot(U, h_hat)\n",
    "\n",
    "plt.imshow(np.reshape(img, (28, 28)))\n",
    "plt.title('Original Image')\n",
    "plt.show()\n",
    "\n",
    "plt.imshow(np.reshape(H, (28, 28)))\n",
    "plt.title('Filtered Image')\n",
    "plt.show()"
   ]
  },
  {
   "cell_type": "markdown",
   "metadata": {},
   "source": [
    "<h2>Neural Network</h2>"
   ]
  },
  {
   "cell_type": "code",
   "execution_count": 211,
   "metadata": {
    "collapsed": true
   },
   "outputs": [],
   "source": [
    "# N_FILTERS = 4\n",
    "\n",
    "# img = tf.placeholder(tf.float64, shape = size)\n",
    "# img_hat = tf.matmul(U, tf.expand_dims(img, 1), transpose_a = True)\n",
    "\n",
    "# conv_filters = []\n",
    "# conv_weights = []\n",
    "# filter_hat = []\n",
    "\n",
    "# for n in range(N_FILTERS):\n",
    "    \n",
    "#     # Initialize random weights for filter n\n",
    "#     w_init = np.random.rand(size, size)\n",
    "#     conv_weights.append(tf.Variable(w_init))\n",
    "    \n",
    "#     # Write filter n output\n",
    "#     np.polynomial.chebyshev"
   ]
  }
 ],
 "metadata": {
  "kernelspec": {
   "display_name": "Python 3",
   "language": "python",
   "name": "python3"
  },
  "language_info": {
   "codemirror_mode": {
    "name": "ipython",
    "version": 3
   },
   "file_extension": ".py",
   "mimetype": "text/x-python",
   "name": "python",
   "nbconvert_exporter": "python",
   "pygments_lexer": "ipython3",
   "version": "3.6.1"
  }
 },
 "nbformat": 4,
 "nbformat_minor": 2
}
