{
 "cells": [
  {
   "cell_type": "code",
   "execution_count": 25,
   "metadata": {
    "collapsed": true
   },
   "outputs": [],
   "source": [
    "import sys\n",
    "sys.path.append('../data/')\n",
    "sys.path.append('../src/')\n",
    "sys.path.append('../libs/')\n",
    "\n",
    "import numpy as np\n",
    "import tensorflow as tf\n",
    "import scipy.linalg as la\n",
    "import matplotlib.pyplot as plt\n",
    "\n",
    "import MNIST_DATA"
   ]
  },
  {
   "cell_type": "markdown",
   "metadata": {},
   "source": [
    "<h1>Handwritten Digits</h1>"
   ]
  },
  {
   "cell_type": "code",
   "execution_count": 55,
   "metadata": {
    "collapsed": true
   },
   "outputs": [],
   "source": [
    "mnist = MNIST_DATA.MNIST_DATA()"
   ]
  },
  {
   "cell_type": "markdown",
   "metadata": {},
   "source": [
    "<h2>Graph Convolutional Network</h2>"
   ]
  },
  {
   "cell_type": "markdown",
   "metadata": {},
   "source": [
    "It doesn't make sense to slide a filter over a graph, so graph convolutional networks use a definition of convolution by analogy. In a Euclidean space, the convolution of two signals in the frequency domain is the product of the signals in the frequency domain. Similarly, for two signals $f$ and $g$ defined in vertex space, the convolution is\n",
    "\\begin{equation}\n",
    "    f \\star g = \\sum^n_{k = 1} \\left( \\hat f_k \\hat g_k \\right) u_k\n",
    "\\end{equation}\n",
    "where $\\hat f_k, \\hat g_k$ are coefficients of the $k$th frequency component, and $u_k$ is the basis vector corresponding to the $k$th frequency component.\n",
    "\n",
    "Frequency components are obtained by the Graph Fourier Transform (GFT). If $G$ is a graph with Laplacian $L$, then the Fourier basis for a signal $x$ defined over the vertices of $G$ are the columns of the orthonormal matrix $U$, defined by the spectral decomposition $L = U^T \\Lambda U$. Hence, if $x$ is a signal in the vertex domain, the corresponding frequency domain signal is $\\hat x = U^T x$."
   ]
  },
  {
   "cell_type": "markdown",
   "metadata": {},
   "source": [
    "<h3>Lattice Frequency Domain</h3>\n",
    "\n",
    "All of the handwritten digits are defined over the same graph, a 28 $\\times$ 28 lattice. We can obtain the Laplacian as follows:"
   ]
  },
  {
   "cell_type": "code",
   "execution_count": 173,
   "metadata": {
    "collapsed": true
   },
   "outputs": [],
   "source": [
    "def get_lattice_laplacian(n):\n",
    "    d, I = la.toeplitz(np.eye(1, n, 1)), np.eye(n)\n",
    "    A = np.kron(d, I) + np.kron(I, d)\n",
    "    degrees = np.sum(A, axis = 0)\n",
    "    N = np.diag(np.power(degrees, -0.5))\n",
    "    L = np.identity(n ** 2) - np.linalg.multi_dot([N, A, N])\n",
    "    return L"
   ]
  },
  {
   "cell_type": "markdown",
   "metadata": {},
   "source": [
    "Then perform the spectral decomposition to obtain frequencies and frequency components:"
   ]
  },
  {
   "cell_type": "code",
   "execution_count": 171,
   "metadata": {
    "collapsed": true
   },
   "outputs": [],
   "source": [
    "def gft(L):\n",
    "    lamb, U = np.linalg.eig(L)\n",
    "    return lamb, U"
   ]
  },
  {
   "cell_type": "markdown",
   "metadata": {},
   "source": [
    "Let's see what some of the frequency components look like for the lattice graph."
   ]
  },
  {
   "cell_type": "code",
   "execution_count": 174,
   "metadata": {},
   "outputs": [],
   "source": [
    "L = get_lattice_laplacian(28)\n",
    "lamb, U = gft(L)"
   ]
  },
  {
   "cell_type": "code",
   "execution_count": 199,
   "metadata": {
    "scrolled": true
   },
   "outputs": [
    {
     "data": {
      "image/png": "[encoded data removed]",
      "text/plain": [
       "<matplotlib.figure.Figure at 0x211669e8>"
      ]
     },
     "metadata": {},
     "output_type": "display_data"
    }
   ],
   "source": [
    "plt.figure(figsize = (10, 5))\n",
    "plt.subplot(1, 3, 1)\n",
    "plt.imshow(np.abs(np.reshape(U[:, 0], (28, 28))))\n",
    "plt.title('Frequency Component 1')\n",
    "plt.subplot(1, 3, 2)\n",
    "plt.imshow(np.abs(np.reshape(U[:, 9], (28, 28))))\n",
    "plt.title('Frequency Component 10')\n",
    "plt.subplot(1, 3, 3)\n",
    "plt.imshow(np.abs(np.reshape(U[:, 99], (28, 28))))\n",
    "plt.title('Frequency Component 100')\n",
    "plt.show()"
   ]
  },
  {
   "cell_type": "code",
   "execution_count": 208,
   "metadata": {},
   "outputs": [
    {
     "data": {
      "image/png": "[encoded data removed]",
      "text/plain": [
       "<matplotlib.figure.Figure at 0x213ef208>"
      ]
     },
     "metadata": {},
     "output_type": "display_data"
    },
    {
     "data": {
      "image/png": "[encoded data removed]",
      "text/plain": [
       "<matplotlib.figure.Figure at 0x213c3208>"
      ]
     },
     "metadata": {},
     "output_type": "display_data"
    }
   ],
   "source": [
    "img = np.array(mnist.train_data[0], dtype = 'float64')\n",
    "img = img / 255\n",
    "\n",
    "img_hat = np.dot(np.transpose(U), img)\n",
    "\n",
    "img_hat_mod = np.copy(img_hat)\n",
    "img_hat_mod[200:] = 0\n",
    "img_mod = np.dot(U, img_hat_mod)\n",
    "\n",
    "plt.imshow(np.reshape(img, (28, 28)))\n",
    "plt.show()\n",
    "\n",
    "plt.imshow(np.reshape(img_mod, (28, 28)))\n",
    "plt.show()"
   ]
  },
  {
   "cell_type": "markdown",
   "metadata": {},
   "source": [
    "Any of the handwritten digits can be written as a linear combination of the 784 frequency components.\n",
    "\n",
    "<h3>Spectral Filters</h3>\n",
    "\n",
    "The point of a convolutional neural network is to learn an optimal filter with which the signal is convolved. For graph convolutional networks, it is common to use a filter which is polynomial in the frequency domain."
   ]
  },
  {
   "cell_type": "code",
   "execution_count": 184,
   "metadata": {
    "collapsed": true
   },
   "outputs": [],
   "source": [
    "L = get_lattice_laplacian(28)\n",
    "[lamb, U] = gft(L)"
   ]
  },
  {
   "cell_type": "code",
   "execution_count": 197,
   "metadata": {},
   "outputs": [
    {
     "data": {
      "image/png": "[encoded data removed]",
      "text/plain": [
       "<matplotlib.figure.Figure at 0x211999b0>"
      ]
     },
     "metadata": {},
     "output_type": "display_data"
    }
   ],
   "source": [
    "size = 28 ** 2\n",
    "\n",
    "def filter(img, W):\n",
    "    \n",
    "    # Calculate Fourier transform of image \n",
    "    img_hat = np.dot(np.transpose(U), img)\n",
    "    \n",
    "    # Get convolution in frequency domain\n",
    "    h_hat = np.empty(size)\n",
    "    for k in range(size):\n",
    "        g_hat = np.polynomial.chebyshev.chebval(lamb[k] - 1, W[k, :])\n",
    "        h_hat[k] = img_hat[k] * g_hat\n",
    "        \n",
    "    # Return convolution in vertex domain\n",
    "    return np.dot(U, h_hat)\n",
    "        \n",
    "W = np.random.normal(0, 1e-2, (size, size))\n",
    "H = filter(img, W)\n",
    "H_img = np.reshape(H, (28, 28))\n",
    "plt.imshow(H_img)\n",
    "plt.show()"
   ]
  },
  {
   "cell_type": "markdown",
   "metadata": {},
   "source": [
    "<h2>Neural Network</h2>"
   ]
  },
  {
   "cell_type": "code",
   "execution_count": 211,
   "metadata": {},
   "outputs": [],
   "source": [
    "N_FILTERS = 4\n",
    "\n",
    "img = tf.placeholder(tf.float64, shape = size)\n",
    "img_hat = tf.matmul(U, tf.expand_dims(img, 1), transpose_a = True)\n",
    "\n",
    "conv_filters = []\n",
    "conv_weights = []\n",
    "filter_hat = []\n",
    "\n",
    "for n in range(N_FILTERS):\n",
    "    \n",
    "    # Initialize random weights for filter n\n",
    "    w_init = np.random.rand(size, size)\n",
    "    conv_weights.append(tf.Variable(w_init))\n",
    "    \n",
    "    # Write filter n output\n",
    "    np.polynomial.chebyshev"
   ]
  },
  {
   "cell_type": "code",
   "execution_count": 220,
   "metadata": {},
   "outputs": [
    {
     "name": "stdout",
     "output_type": "stream",
     "text": [
      "[  1.   3.  -6. -16.   8.  16.]\n"
     ]
    }
   ],
   "source": [
    "C = np.polynomial.chebyshev.cheb2poly(np.array([1, 1, 1, 1, 1, 1]))\n",
    "print(C)"
   ]
  }
 ],
 "metadata": {
  "kernelspec": {
   "display_name": "Python 3",
   "language": "python",
   "name": "python3"
  },
  "language_info": {
   "codemirror_mode": {
    "name": "ipython",
    "version": 3
   },
   "file_extension": ".py",
   "mimetype": "text/x-python",
   "name": "python",
   "nbconvert_exporter": "python",
   "pygments_lexer": "ipython3",
   "version": "3.6.1"
  }
 },
 "nbformat": 4,
 "nbformat_minor": 2
}
