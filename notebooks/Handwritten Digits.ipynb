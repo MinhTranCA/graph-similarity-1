{
 "cells": [
  {
   "cell_type": "code",
   "execution_count": 3,
   "metadata": {
    "collapsed": true
   },
   "outputs": [],
   "source": [
    "import sys\n",
    "sys.path.append('../data/')\n",
    "sys.path.append('../src/')\n",
    "\n",
    "import networkx as nx\n",
    "import numpy as np\n",
    "\n",
    "import MNIST_DATA"
   ]
  },
  {
   "cell_type": "markdown",
   "metadata": {},
   "source": [
    "<h1>Handwritten Digits</h1>"
   ]
  },
  {
   "cell_type": "markdown",
   "metadata": {},
   "source": [
    "First, load the handwritten digits data using the MNIST module:"
   ]
  },
  {
   "cell_type": "code",
   "execution_count": 2,
   "metadata": {},
   "outputs": [
    {
     "data": {
      "image/png": "[encoded data removed]",
      "text/plain": [
       "<matplotlib.figure.Figure at 0x60d3940>"
      ]
     },
     "metadata": {},
     "output_type": "display_data"
    }
   ],
   "source": [
    "mnistData = MNIST_DATA.MNIST_DATA()\n",
    "mnistData.plot_digit(0)"
   ]
  },
  {
   "cell_type": "markdown",
   "metadata": {},
   "source": [
    "The MNIST_DATA class contains a function which converts the grayscale digit into simple graph, as shown in the graphic above."
   ]
  },
  {
   "cell_type": "markdown",
   "metadata": {},
   "source": [
    "<h2>Spectral Distance</h2>"
   ]
  },
  {
   "cell_type": "markdown",
   "metadata": {},
   "source": [
    "To calculate the spectral distance between two graphs, first identify the eigenvalues $\\lambda_i^{(1)}$ and $\\lambda_i^{(2)}$ of the two graph Laplacian matrices. Sort the eigenvalues in ascending order, and pad the shortest vector with zeros so that they have the same length. Then take the distance\n",
    "\\begin{equation}\n",
    "d(G_1, G_2) = \\sum_{i = 1}^n \\left| \\lambda_i^{(1)} - \\lambda_i^{(2)} \\right|\n",
    "\\end{equation}"
   ]
  },
  {
   "cell_type": "code",
   "execution_count": 6,
   "metadata": {
    "collapsed": true
   },
   "outputs": [],
   "source": [
    "def spectrum(idx):\n",
    "    '''\n",
    "    Returns the Laplacian spectrum for a graph with adjacency matrix A.\n",
    "    Eigenvalues are returned in ascending order.\n",
    "    '''\n",
    "    A, _, _ = mnistData.get_digit_graph(idx)\n",
    "    G = nx.from_numpy_matrix(A)\n",
    "    return -np.sort(-nx.laplacian_spectrum(G))"
   ]
  },
  {
   "cell_type": "markdown",
   "metadata": {},
   "source": [
    "Calculate the spectra of all of the digit graphs:"
   ]
  },
  {
   "cell_type": "code",
   "execution_count": 12,
   "metadata": {
    "collapsed": true
   },
   "outputs": [],
   "source": [
    "spectra = [[] for digit in range(10)]\n",
    "for i in range(6000):\n",
    "    digit = mnistData.train_labels[i]\n",
    "    spectra[digit].append(spectrum(i))"
   ]
  },
  {
   "cell_type": "markdown",
   "metadata": {},
   "source": [
    "Find the spectra with most eigenvalues, and pad the remaining spectra with zeros:"
   ]
  },
  {
   "cell_type": "code",
   "execution_count": 13,
   "metadata": {},
   "outputs": [
    {
     "data": {
      "text/plain": [
       "280"
      ]
     },
     "execution_count": 13,
     "metadata": {},
     "output_type": "execute_result"
    }
   ],
   "source": [
    "L = max([max([len(s) for s in spectra[d]]) for d in range(10)])\n"
   ]
  }
 ],
 "metadata": {
  "kernelspec": {
   "display_name": "Python 3",
   "language": "python",
   "name": "python3"
  },
  "language_info": {
   "codemirror_mode": {
    "name": "ipython",
    "version": 3
   },
   "file_extension": ".py",
   "mimetype": "text/x-python",
   "name": "python",
   "nbconvert_exporter": "python",
   "pygments_lexer": "ipython3",
   "version": "3.6.1"
  }
 },
 "nbformat": 4,
 "nbformat_minor": 2
}
